{
  "cells": [
    {
      "cell_type": "markdown",
      "metadata": {
        "id": "view-in-github",
        "colab_type": "text"
      },
      "source": [
        "<a href=\"https://colab.research.google.com/github/austinli356/OTCDR/blob/main/OTCDRipynb.ipynb\" target=\"_parent\"><img src=\"https://colab.research.google.com/assets/colab-badge.svg\" alt=\"Open In Colab\"/></a>"
      ]
    },
    {
      "cell_type": "code",
      "execution_count": null,
      "metadata": {
        "colab": {
          "base_uri": "https://localhost:8080/"
        },
        "id": "lQ0q9-WUqumi",
        "outputId": "dd9de365-8413-401e-814e-f8c6f46fdd1d"
      },
      "outputs": [
        {
          "output_type": "stream",
          "name": "stdout",
          "text": [
            "Cloning into 'OTGK_DP'...\n",
            "remote: Enumerating objects: 198, done.\u001b[K\n",
            "remote: Counting objects: 100% (16/16), done.\u001b[K\n",
            "remote: Compressing objects: 100% (16/16), done.\u001b[K\n",
            "remote: Total 198 (delta 8), reused 1 (delta 0), pack-reused 182 (from 1)\u001b[K\n",
            "Receiving objects: 100% (198/198), 51.22 KiB | 1.90 MiB/s, done.\n",
            "Resolving deltas: 100% (104/104), done.\n"
          ]
        }
      ],
      "source": [
        "import shutil\n",
        "import os, sys\n",
        "\n",
        "shutil.rmtree('/content/OTGK_DP', ignore_errors=True)\n",
        "\n",
        "!git clone https://github.com/Maburidi/OTGK_DP.git\n",
        "\n",
        "sys.path.insert(0,'/content/OTGK_DP/')"
      ]
    },
    {
      "cell_type": "code",
      "execution_count": null,
      "metadata": {
        "id": "XhWNQMdetGtP"
      },
      "outputs": [],
      "source": [
        "!bash OTGK_DP/install_dependencies.sh"
      ]
    },
    {
      "cell_type": "code",
      "execution_count": null,
      "metadata": {
        "colab": {
          "base_uri": "https://localhost:8080/"
        },
        "id": "hX1V2Dn7kO3y",
        "outputId": "ff6dfa58-2c98-42f1-8868-5048182a141c"
      },
      "outputs": [
        {
          "output_type": "stream",
          "name": "stderr",
          "text": [
            "Downloading...\n",
            "100%|██████████| 117M/117M [00:04<00:00, 23.9MiB/s]\n",
            "Loading...\n",
            "Done!\n"
          ]
        }
      ],
      "source": [
        "import numpy as np\n",
        "from numpy.lib.stride_tricks import sliding_window_view\n",
        "import pandas as pd\n",
        "import os, sys\n",
        "import ot\n",
        "\n",
        "from tdc.single_pred import ADME\n",
        "from tdc.single_pred import Tox\n",
        "from tdc.multi_pred import DrugRes\n",
        "from sklearn.svm import SVC\n",
        "from sklearn.svm import SVR\n",
        "import torch\n",
        "import torch.nn as nn\n",
        "import torch.optim as optim\n",
        "from sklearn.preprocessing import LabelEncoder\n",
        "from sklearn.decomposition import PCA\n",
        "from sklearn.manifold import TSNE\n",
        "import matplotlib.pyplot as plt\n",
        "from sklearn.metrics import roc_auc_score, roc_curve, precision_recall_curve, auc\n",
        "from sklearn.preprocessing import StandardScaler\n",
        "from torch.utils.data import DataLoader, TensorDataset\n",
        "from scipy.spatial.distance import cdist\n",
        "from tqdm import tqdm\n",
        "\n",
        "from models import KNNClassifier\n",
        "from models import KernelRegressionNN\n",
        "\n",
        "from Gbuilder import *\n",
        "from OTtools import *\n",
        "from utils import *\n",
        "\n",
        "\n",
        "#----------- Model Inputs ------------------------\n",
        "set_name ='GDSC2'       # Choose dataset\n",
        "sets = 'DrugRes'                     # The prediction task, (ADME, Tox)\n",
        "task = 'classification'               # The type of the task to be done, (classification vs regression)\n",
        "#---------------- Specify the measure/embdgs + and the distance metrix used in the cost matrix ---------\n",
        "embdgs = False                    # If you apply an embedding scheme at the extracted features or not\n",
        "otsolver = 'wasserstein'         # The used optimal transport method, GWasserstein, wasserstein, FGW\n",
        "fm = 'euclidean'                  # The distance metrix to be applied in order to generate the cost matrix needed for optimal transport\n",
        "gamma = 3                        # The scaling parameter used in the kernel\n",
        "\n",
        "norm = False                      # Normalize the features on the nodes\n",
        "save_sim = False\n",
        "run_MLP = True\n",
        "#-------------------------------------------------------------------------------\n",
        "# if sets == 'ADME':\n",
        "#    data = ADME(name = set_name)\n",
        "# else:\n",
        "#    data = Tox(name = set_name)\n",
        "data = DrugRes(name = set_name)\n",
        "\n",
        "dall = data.get_data()\n",
        "dall.drop_duplicates(subset=['Cell Line_ID', 'Drug_ID'], keep='first', inplace=True)\n",
        "dall.reset_index(drop=True, inplace=True)\n",
        "\n",
        "drugset = dall.drop_duplicates(subset='Drug_ID', keep='first', inplace=False)\n",
        "drugset.reset_index(drop=True, inplace=True)\n",
        "# dall_shuffled = gdall.sample(frac=1, random_state=42).reset_index(drop=True)\n",
        "\n",
        "\n",
        "# split_index = int(0.8 * len(dall_shuffled))\n",
        "\n",
        "\n",
        "# Train = dall_shuffled.iloc[:split_index]\n",
        "# Test = dall_shuffled.iloc[split_index:]"
      ]
    },
    {
      "cell_type": "code",
      "execution_count": null,
      "metadata": {
        "id": "F7s0uVK23BYd"
      },
      "outputs": [],
      "source": [
        "#------------------- extract graph features ---------------------\n",
        "compound_iso_smiles = list(drugset['Drug'])\n",
        "smile_graph = {}                      # Dictinary of features\n",
        "structure_graph = {}\n",
        "for smile in compound_iso_smiles:\n",
        "    g, feat_, _, _  = smile_to_graph2(smile, normalize= norm)\n",
        "    smile_graph[smile] = feat_\n",
        "    if otsolver != 'Wasserstein':\n",
        "        #g, feat_, _, _  = smile_to_graph2(smile, normalize= norm)\n",
        "        if len(g)>0:\n",
        "          C = structure_matrix(g, method='adjency')     # harmonic_distance, adjency, shortest_path\n",
        "          structure_graph[smile] = C\n",
        "        else:\n",
        "          drugset = drugset[drugset.Drug != smile]\n",
        "          dall = dall[dall.Drug!=smile]\n",
        "          drugset.reset_index(drop=True, inplace=True)\n",
        "          dall.reset_index(drop=True, inplace=True)\n",
        "# y_train = list(Train['Y'])\n",
        "# y_test = list(Test['Y'])\n",
        "# print('===========================================')\n",
        "# print(f'Number of data points = {len(y_train) + len(y_test)}')\n",
        "# if task == 'classification':\n",
        "#     print(f'Percent of positive data points = {np.sum(y_train) / len(y_train) * 100:.2f}%')"
      ]
    },
    {
      "cell_type": "code",
      "execution_count": null,
      "metadata": {
        "id": "_tuU98PJqxDY",
        "colab": {
          "base_uri": "https://localhost:8080/"
        },
        "outputId": "aac6b691-0101-4535-8257-458249ee3868"
      },
      "outputs": [
        {
          "output_type": "stream",
          "name": "stdout",
          "text": [
            "------------ Compute Similarity matrix required for training\n",
            "Processed 0 graphs out of 136\n",
            "Processed 20 graphs out of 136\n",
            "Processed 40 graphs out of 136\n",
            "Processed 60 graphs out of 136\n",
            "Processed 80 graphs out of 136\n",
            "Processed 100 graphs out of 136\n",
            "Processed 120 graphs out of 136\n"
          ]
        }
      ],
      "source": [
        "#Construct drug similarity matrice\n",
        "unique_drug1 = np.asarray(list(drugset['Drug']))\n",
        "unique_drug2 = unique_drug1\n",
        "print('------------ Compute Similarity matrix required for training')\n",
        "\n",
        "M = compute_distances_btw_graphs_with_embdgs(unique_drug1,unique_drug2,smile_graph = smile_graph,structure_graph = structure_graph , embdgs = embdgs, fm = fm, otsolver=otsolver) #distance matrix from optimal transport\n",
        "#normalize and convert to similarity\n",
        "d0 = np.mean(M[M>0])\n",
        "d_similarity = np.exp(- (M**2) / (2 * d0**2))"
      ]
    },
    {
      "cell_type": "code",
      "execution_count": null,
      "metadata": {
        "id": "IAD4xoNakaN7"
      },
      "outputs": [],
      "source": [
        "def window(cell_line, window_size, step_size):\n",
        "    cell_line = np.asarray(cell_line)\n",
        "    windows = sliding_window_view(cell_line, window_size)[::step_size] #fragment cellline array into windows\n",
        "    return windows\n",
        "\n",
        "def cost_matrix(cell_line1, cell_line2, window_size, step_size):\n",
        "    window1 = window(cell_line1, window_size, step_size)\n",
        "    window2 = window(cell_line2, window_size, step_size)\n",
        "    # cdist to compute the pairwise Euclidean distances.\n",
        "    cost = cdist(window1, window2, metric='euclidean')\n",
        "    n1, n2 = window1.shape[0], window2.shape[0]\n",
        "    return n1, n2, cost\n",
        "\n",
        "def transport_cost(cell_line1, cell_line2):\n",
        "    n1, n2, cost = cost_matrix(cell_line1, cell_line2, window_size=5, step_size=1)\n",
        "    a = np.ones(n1) / n1\n",
        "    b = np.ones(n2) / n2\n",
        "    cost_val = ot.emd2(a, b, cost)\n",
        "    return cost_val"
      ]
    },
    {
      "cell_type": "code",
      "execution_count": null,
      "metadata": {
        "colab": {
          "base_uri": "https://localhost:8080/"
        },
        "id": "lzeG8FedwzWz",
        "outputId": "28345dbc-c9cd-4dcf-f7e3-1b856dc8f90c"
      },
      "outputs": [
        {
          "output_type": "stream",
          "name": "stdout",
          "text": [
            "Stacked shape: (805, 17737)\n",
            "Reduced shape: (805, 50)\n"
          ]
        }
      ],
      "source": [
        "#Reduce cell line expression dimensionality\n",
        "cellset = dall.drop_duplicates(subset='Cell Line_ID', keep='first', inplace=False)\n",
        "cellset.reset_index(drop=True, inplace=True)\n",
        "c = np.asarray(list(cellset['Cell Line']))\n",
        "\n",
        "c_stacked = np.stack(c, axis=0) #combine cell lines into matrix\n",
        "# scaler = StandardScaler()\n",
        "# c_stacked = scaler.fit_transform(c_stacked)\n",
        "print(\"Stacked shape:\", c_stacked.shape)\n",
        "\n",
        "# def softmax(x):\n",
        "#     ex = np.exp(x - np.max(x))\n",
        "#     return ex / ex.sum()\n",
        "# c_stacked = np.apply_along_axis(softmax, 1, c_stacked)\n",
        "\n",
        "#reduce dimensionality using TSNE\n",
        "tsne = TSNE(n_components=50, perplexity=15, random_state=42, method='exact')\n",
        "c_reduced = tsne.fit_transform(c_stacked)\n",
        "print(\"Reduced shape:\", c_reduced.shape)\n",
        "\n",
        "# pca = PCA(0.95)\n",
        "# c_reduced = pca.fit_transform(c_stacked)\n",
        "# print(\"Reduced shape:\", c_reduced.shape)\n",
        "\n",
        "# reducer = umap.UMAP(n_components=50, n_neighbors=15, min_dist=0.1, random_state=42)\n",
        "# c_reduced = reducer.fit_transform(c_stacked)\n",
        "# print(\"Reduced shape:\", c_reduced.shape)\n",
        "\n",
        "# kpca = KernelPCA(n_components=50, kernel='rbf', gamma=0.1, random_state=42)\n",
        "# c_reduced = kpca.fit_transform(c_stacked)\n",
        "# print(\"Reduced shape:\", c_reduced.shape)"
      ]
    },
    {
      "cell_type": "code",
      "execution_count": null,
      "metadata": {
        "colab": {
          "base_uri": "https://localhost:8080/"
        },
        "id": "35vxCzqYHe8Z",
        "outputId": "014da2c1-5038-4654-9a7b-3db2d59b5338"
      },
      "outputs": [
        {
          "output_type": "stream",
          "name": "stderr",
          "text": [
            "Computing transport cost: 100%|██████████| 805/805 [04:15<00:00,  3.15it/s]\n"
          ]
        }
      ],
      "source": [
        "#Compute distance matrices of cell lines\n",
        "C = np.zeros((cellset['Cell Line'].shape[0], cellset['Cell Line'].shape[0]))\n",
        "for i in tqdm(range(c_reduced.shape[0]), desc=\"Computing transport cost\"):\n",
        "  for j in range(i, c_reduced.shape[0]):\n",
        "    d = transport_cost(c_reduced[i], c_reduced[j])\n",
        "    C[i,j] = d\n",
        "    C[j,i] = d"
      ]
    },
    {
      "cell_type": "code",
      "execution_count": null,
      "metadata": {
        "id": "nY7fwHTB5iuI"
      },
      "outputs": [],
      "source": [
        "#normalize distance matrix and convert into similarity\n",
        "sigma = np.mean(C[C > 0])\n",
        "c_similarity = np.exp(- (C ** 2) / (2 * sigma ** 2))"
      ]
    },
    {
      "cell_type": "code",
      "execution_count": null,
      "metadata": {
        "id": "cgSuPn8f5-gt"
      },
      "outputs": [],
      "source": [
        "#create library to map drug ids to IC-50 values\n",
        "drug2thred={}\n",
        "for line in open('data/drug_threshold.txt').readlines()[1:]:\n",
        "  drug2thred[str(line.split('\\t')[2])]=float(line.strip().split('\\t')[1])\n",
        "default_threshold = np.median(list(drug2thred.values()))\n",
        "for index, row in dall.iterrows():\n",
        "    drug_id = row[0]\n",
        "\n",
        "    threshold = drug2thred[drug_id] if drug_id in drug2thred else default_threshold\n",
        "    binary_IC50 = 1 if row[4] < threshold else 0\n",
        "    dall.loc[index, dall.columns[4]] = binary_IC50\n"
      ]
    },
    {
      "cell_type": "code",
      "execution_count": null,
      "metadata": {
        "id": "JI58u9WwHUBo"
      },
      "outputs": [],
      "source": [
        "#create adjacency matrix\n",
        "interactions_df = pd.pivot_table(dall, values='Y', index='Drug_ID', columns='Cell Line_ID', fill_value=0)\n",
        "interactions = interactions_df.values\n",
        "np.random.seed(42)\n",
        "indices = np.where(interactions==1)\n",
        "coordinates = list(zip(indices[0], indices[1]))\n",
        "coordinates = np.array(coordinates)\n",
        "np.random.shuffle(coordinates)\n",
        "folds = coordinates.reshape(5, 3*697, 2)"
      ]
    },
    {
      "cell_type": "code",
      "source": [
        "#zero out ones in the fold\n",
        "def generate_fold_interaction(interactions, fold):\n",
        "  kthfold = np.copy(interactions)\n",
        "  for coord in fold:\n",
        "    kthfold[coord[0]][coord[1]] = 0\n",
        "  return kthfold"
      ],
      "metadata": {
        "id": "j8svpnciGgZm"
      },
      "execution_count": null,
      "outputs": []
    },
    {
      "cell_type": "code",
      "source": [
        "def integrated_matrix(c_similarity, d_similarity, adjacency):\n",
        "  top = np.concatenate((d_similarity, adjacency.T), axis=0)\n",
        "  bottom = np.concatenate((adjacency, c_similarity), axis=0)\n",
        "  adj_prime = np.concatenate((top, bottom), axis=1)\n",
        "  return adj_prime"
      ],
      "metadata": {
        "id": "_7wRis-GGiYv"
      },
      "execution_count": null,
      "outputs": []
    },
    {
      "cell_type": "code",
      "source": [
        "def linear_optimization(adj_prime, alpha):\n",
        "  E = np.identity(adj_prime.shape[0])\n",
        "  adj = adj_prime.T @ adj_prime\n",
        "  inverted = np.linalg.inv(alpha*adj + E)\n",
        "  C_star = alpha * (inverted @ adj)\n",
        "  RS = adj_prime @ C_star\n",
        "  return RS, C_star"
      ],
      "metadata": {
        "id": "qclGB_PFGj-2"
      },
      "execution_count": null,
      "outputs": []
    },
    {
      "cell_type": "code",
      "source": [
        "#Calculate RS for each fold\n",
        "def kfold_cv(k, alpha, folds, interactions, c_similarity, d_similarity):\n",
        "  pred = []\n",
        "  for fold in folds:\n",
        "    fold_adjacency = generate_fold_interaction(interactions, fold)\n",
        "    adj_prime = integrated_matrix(c_similarity, d_similarity, fold_adjacency)\n",
        "    RS, C_star = linear_optimization(adj_prime, alpha)\n",
        "    pred.append(RS)\n",
        "  return pred"
      ],
      "metadata": {
        "id": "ULzWOGVeGl5C"
      },
      "execution_count": null,
      "outputs": []
    },
    {
      "cell_type": "code",
      "source": [
        "def evaluate_and_collect(pred, folds, interactions):\n",
        "\n",
        "    roc_vals = []\n",
        "    pr_vals = []\n",
        "\n",
        "    all_y_true = []\n",
        "    all_y_score = []\n",
        "\n",
        "    for i in range(len(pred)):\n",
        "        # Collect positives from the fold\n",
        "        pos_scores = []\n",
        "        for coord in folds[i]:\n",
        "            pos_scores.append(pred[i][coord[0]][coord[1]])\n",
        "\n",
        "        # Sample random negatives\n",
        "        all_zero_coords = np.argwhere(interactions == 0)\n",
        "        num_negatives = 5*len(folds[i])\n",
        "        neg_indices = np.random.choice(len(all_zero_coords), size=num_negatives, replace=False)\n",
        "        neg_pairs = all_zero_coords[neg_indices]\n",
        "        neg_scores = []\n",
        "        for (r, c) in neg_pairs:\n",
        "            neg_scores.append(pred[i][r][c])\n",
        "\n",
        "        # combine/compute metrics\n",
        "        y_true = [1]*len(pos_scores) + [0]*len(neg_scores)\n",
        "        y_pred = pos_scores + neg_scores\n",
        "\n",
        "        # AUC(ROC)\n",
        "        auc_roc = roc_auc_score(y_true, y_pred)\n",
        "        # AUC(PR)\n",
        "        precision, recall, _ = precision_recall_curve(y_true, y_pred)\n",
        "        auc_pr = auc(recall, precision)\n",
        "\n",
        "        roc_vals.append(auc_roc)\n",
        "        pr_vals.append(auc_pr)\n",
        "\n",
        "        # Collect for plotting aggregated curves\n",
        "        all_y_true.extend(y_true)\n",
        "        all_y_score.extend(y_pred)\n",
        "\n",
        "    results = {\n",
        "        \"mean_auc_roc\": np.mean(roc_vals),\n",
        "        \"mean_auc_pr\": np.mean(pr_vals)\n",
        "    }\n",
        "\n",
        "    return results, np.array(all_y_true), np.array(all_y_score)"
      ],
      "metadata": {
        "id": "gsvPb9c1nLK8"
      },
      "execution_count": null,
      "outputs": []
    },
    {
      "cell_type": "code",
      "source": [
        "alphas = [1e-5, 1e-4, 1e-3, 1e-2, 1e-1, 1.0, 10.0, 100.0]\n",
        "maxroc = 0\n",
        "maxaupr = 0\n",
        "O_alpha = 1e-5\n",
        "O_pred = None\n",
        "\n",
        "for alpha in alphas:\n",
        "    pred = kfold_cv(5, alpha, folds, interactions, c_similarity, d_similarity)\n",
        "    performance, all_y_true, all_y_score = evaluate_and_collect(pred, folds, interactions)\n",
        "\n",
        "\n",
        "    if performance[\"mean_auc_roc\"] > maxroc and performance[\"mean_auc_pr\"] > maxaupr:\n",
        "        maxroc = performance[\"mean_auc_roc\"]\n",
        "        maxaupr = performance[\"mean_auc_pr\"]\n",
        "        O_alpha = alpha\n",
        "        O_pred = pred\n",
        "        best_y_true = all_y_true  # store for final plotting\n",
        "        best_y_score = all_y_score\n",
        "\n",
        "print(f\"Best alpha = {O_alpha}, with AUC-ROC={maxroc:.4f}, AUC-PR={maxaupr:.4f}\")\n",
        "\n",
        "# --- Plot ROC and PR curves for the best alpha ---\n",
        "fpr, tpr, _ = roc_curve(best_y_true, best_y_score)\n",
        "precision, recall, _ = precision_recall_curve(best_y_true, best_y_score)\n",
        "\n",
        "# Plot ROC curve\n",
        "plt.plot(fpr, tpr, label=f'Alpha={O_alpha}')\n",
        "plt.plot([0, 1], [0, 1], linestyle='--', label='Random')\n",
        "plt.xlabel('False Positive Rate')\n",
        "plt.ylabel('True Positive Rate')\n",
        "plt.title('ROC Curve')\n",
        "plt.legend()\n",
        "plt.show()\n",
        "\n",
        "# Plot Precision-Recall curve\n",
        "plt.plot(recall, precision, label=f'Alpha={O_alpha}')\n",
        "plt.xlabel('Recall')\n",
        "plt.ylabel('Precision')\n",
        "plt.title('Precision-Recall Curve')\n",
        "plt.legend()\n",
        "plt.show()"
      ],
      "metadata": {
        "colab": {
          "base_uri": "https://localhost:8080/",
          "height": 944
        },
        "id": "PUhkb3_2nWSs",
        "outputId": "a1a8ae49-97ea-44cf-b71c-c0a032488f18"
      },
      "execution_count": null,
      "outputs": [
        {
          "output_type": "stream",
          "name": "stdout",
          "text": [
            "Best alpha = 1e-05, with AUC-ROC=0.8600, AUC-PR=0.6239\n"
          ]
        },
        {
          "output_type": "display_data",
          "data": {
            "text/plain": [
              "<Figure size 640x480 with 1 Axes>"
            ],
            "image/png": "[encoded data removed]"
          },
          "metadata": {}
        },
        {
          "output_type": "display_data",
          "data": {
            "text/plain": [
              "<Figure size 640x480 with 1 Axes>"
            ],
            "image/png": "[encoded data removed]"
          },
          "metadata": {}
        }
      ]
    },
    {
      "cell_type": "code",
      "source": [
        "#Evaluation method used in GKLOMLI\n",
        "\n",
        "def compute_ranking_positions(RS, test_fold_coords, all_known_coords, very_low=-1e20):\n",
        "    RS_copy = RS.copy()\n",
        "\n",
        "    test_set = set(test_fold_coords)\n",
        "    for (i, j) in all_known_coords:\n",
        "        if (i, j) not in test_set:\n",
        "            RS_copy[i, j] = very_low\n",
        "\n",
        "    positions = []\n",
        "    for (i, j) in test_fold_coords:\n",
        "        score = RS[i, j]\n",
        "        ll1 = np.sum(RS_copy >= score)\n",
        "        ll2 = np.sum(RS_copy > score)\n",
        "        pos = ll2 + 1 + (ll1 - ll2 - 1) / 2\n",
        "        positions.append(pos)\n",
        "    return positions\n",
        "\n",
        "all_known_coords = list(zip(*np.where(interactions == 1)))\n",
        "\n",
        "np.random.shuffle(all_known_coords)\n",
        "test_fold_coords = all_known_coords[:2000]\n",
        "\n",
        "positions = compute_ranking_positions(O_pred[1], test_fold_coords, all_known_coords)\n",
        "print(\"Ranking positions for test interactions:\", positions)\n",
        "\n",
        "import numpy as np\n",
        "from sklearn.metrics import roc_curve, auc, precision_recall_curve\n",
        "\n",
        "def ranking_to_score(rank, max_rank):\n",
        "    return (max_rank - rank) / max_rank\n",
        "\n",
        "def compute_metrics_from_ranks(pos_ranks, neg_ranks):\n",
        "    max_rank = max(np.max(pos_ranks), np.max(neg_ranks))\n",
        "\n",
        "    pos_scores = np.array([ranking_to_score(r, max_rank) for r in pos_ranks])\n",
        "    neg_scores = np.array([ranking_to_score(r, max_rank) for r in neg_ranks])\n",
        "\n",
        "    y_true = np.concatenate([np.ones_like(pos_scores), np.zeros_like(neg_scores)])\n",
        "    y_scores = np.concatenate([pos_scores, neg_scores])\n",
        "\n",
        "    fpr, tpr, _ = roc_curve(y_true, y_scores)\n",
        "    roc_auc = auc(fpr, tpr)\n",
        "\n",
        "    precision, recall, _ = precision_recall_curve(y_true, y_scores)\n",
        "    pr_auc = auc(recall, precision)\n",
        "\n",
        "    return roc_auc, pr_auc, fpr, tpr, precision, recall\n",
        "\n",
        "if __name__ == '__main__':\n",
        "    all_negative_coords = list(zip(*np.where(interactions == 0)))\n",
        "    neg_sample = np.random.choice(len(all_negative_coords), size=5*len(test_fold_coords), replace=False)\n",
        "    neg_coords = [all_negative_coords[i] for i in neg_sample]\n",
        "\n",
        "    neg_ranks = compute_ranking_positions(O_pred[1], neg_coords, all_known_coords)\n",
        "\n",
        "    roc_auc, pr_auc, fpr, tpr, precision, recall = compute_metrics_from_ranks(positions, neg_ranks)\n",
        "\n",
        "    print(\"ROC AUC:\", roc_auc)\n",
        "    print(\"PR AUC:\", pr_auc)\n"
      ],
      "metadata": {
        "colab": {
          "base_uri": "https://localhost:8080/"
        },
        "id": "4jzOIi4hI2Jf",
        "outputId": "f2eb9d92-316f-4ef0-8093-11c541e3e011"
      },
      "execution_count": null,
      "outputs": [
        {
          "output_type": "stream",
          "name": "stdout",
          "text": [
            "Ranking positions for test interactions: [659846.0, 679172.5, 658810.0, 660125.0, 725072.0, 750663.0, 692051.0, 115200.0, 613502.0, 87972.0, 670556.5, 712389.0, 669152.0, 712006.0, 670450.5, 668125.0, 661196.0, 730026.0, 665888.0, 105469.0, 737943.0, 705093.5, 50475.0, 34780.5, 768025.0, 674062.0, 258699.0, 188827.0, 712830.0, 447.0, 710651.5, 783957.0, 614058.0, 807403.0, 102.0, 744779.0, 682668.0, 672742.0, 274412.0, 684760.0, 757664.5, 732738.0, 694425.0, 687451.0, 712711.0, 750487.5, 674069.5, 727690.5, 90506.0, 665433.0, 715502.0, 811813.0, 715165.5, 660133.0, 727128.0, 690368.5, 68.0, 731457.0, 681310.5, 662123.5, 739157.0, 722874.0, 763847.0, 609397.0, 57147.5, 610557.0, 622890.0, 692445.0, 466134.0, 680946.0, 697590.0, 686252.0, 651022.5, 676042.0, 670930.0, 697451.0, 663187.0, 726165.0, 712513.0, 6669.0, 1309.0, 620705.0, 734019.0, 710491.0, 97303.0, 720395.5, 659649.0, 713419.0, 709449.0, 672832.0, 355740.0, 764322.0, 662750.0, 708878.0, 682569.0, 715383.0, 737081.5, 705200.0, 598002.0, 812090.0, 166011.0, 734635.5, 686082.0, 661120.5, 330.5, 686768.0, 751005.0, 770341.0, 657261.5, 664573.0, 656215.0, 711536.5, 681083.0, 735575.0, 685318.0, 702130.0, 665012.5, 658513.0, 187283.0, 11795.0, 684684.0, 712820.0, 14943.0, 438289.5, 133606.0, 703307.0, 670942.0, 666518.5, 716275.0, 706238.0, 665283.0, 507697.0, 744750.0, 70859.0, 727862.0, 740047.5, 808198.0, 774513.0, 728239.0, 605087.0, 455007.0, 856124.0, 710171.0, 35898.0, 673654.0, 716339.0, 643087.0, 669953.0, 708939.0, 596426.0, 386897.0, 13022.0, 709302.0, 150763.0, 741147.5, 661396.5, 679269.0, 734830.0, 647510.0, 674759.0, 573063.0, 1213.5, 183456.0, 710724.0, 726895.0, 791410.5, 773247.0, 679451.0, 739618.0, 421.5, 538164.0, 1832.0, 658901.0, 680286.5, 683006.5, 262354.0, 247913.0, 724705.0, 682178.0, 672433.0, 678350.0, 611036.0, 690246.0, 504234.0, 708788.0, 814065.0, 657915.5, 130082.0, 701637.0, 711550.0, 671690.5, 687242.0, 32361.0, 708168.0, 768131.0, 715709.0, 681787.5, 696984.0, 699510.0, 706213.5, 671166.0, 674863.0, 131633.0, 160604.0, 723874.0, 741310.0, 694603.5, 748500.5, 669424.0, 712036.0, 406949.0, 663986.0, 412277.0, 14657.0, 688.0, 46375.0, 524950.0, 655676.5, 677366.0, 7480.0, 672876.0, 679626.0, 726259.0, 293500.0, 95717.0, 550565.0, 759628.0, 729320.0, 615870.5, 682705.0, 680363.0, 766358.0, 658748.0, 591394.0, 666440.0, 163.0, 693188.0, 665018.0, 702983.5, 733263.0, 751818.0, 772451.0, 162723.0, 109704.5, 673577.0, 662158.0, 680153.0, 27458.0, 675428.0, 121798.0, 129774.0, 668534.0, 707149.0, 670026.0, 657272.5, 775004.0, 781146.5, 180835.0, 282623.0, 442066.0, 459828.5, 461604.0, 639270.5, 862.5, 710631.0, 719001.0, 699601.5, 670792.0, 805450.0, 94157.0, 33767.0, 672300.5, 738730.0, 748780.0, 481509.0, 723285.0, 743410.0, 638451.5, 696407.0, 689689.0, 673633.0, 729283.0, 767171.0, 759074.0, 686218.0, 684331.5, 671102.0, 653878.5, 22913.5, 734977.0, 607635.0, 732773.5, 676309.0, 675956.5, 546150.5, 732366.5, 551514.5, 673262.0, 63812.5, 679105.5, 155543.0, 689265.0, 664810.5, 669819.0, 688276.0, 602929.5, 804222.5, 121840.0, 700103.5, 689700.0, 781652.0, 745701.5, 718407.0, 661393.0, 587632.0, 687963.5, 617777.0, 725640.0, 692440.0, 715653.0, 663060.0, 702874.0, 691415.5, 694771.5, 372517.0, 657067.0, 294.5, 770042.0, 727724.0, 268487.0, 606233.0, 717561.0, 686296.0, 688004.0, 662474.5, 532864.0, 676083.5, 674869.5, 692667.0, 180634.0, 657616.0, 700635.0, 616976.0, 797093.5, 700788.0, 748298.0, 740281.0, 79.5, 706810.0, 685218.5, 669477.0, 746189.0, 685537.0, 664223.5, 624548.0, 677291.0, 698408.0, 140.0, 670279.0, 640355.0, 703560.0, 20100.0, 604223.0, 672976.0, 721246.0, 212103.0, 710217.5, 747312.0, 659454.0, 731028.0, 674816.0, 181247.0, 31087.0, 660115.0, 543428.0, 71284.5, 680709.0, 705752.0, 467646.0, 722037.0, 698705.0, 526661.0, 780261.0, 80696.0, 727102.0, 685109.0, 745408.0, 660395.0, 55097.0, 731530.0, 283668.0, 716833.5, 599396.5, 656167.0, 486024.0, 678576.0, 689556.0, 771463.0, 718080.0, 664140.0, 52896.0, 710733.0, 744549.0, 79850.0, 691642.5, 684687.0, 678704.0, 309416.0, 28013.0, 749489.5, 4757.0, 701930.5, 270.0, 700139.0, 8652.0, 284.5, 703701.0, 644497.5, 699604.0, 298174.0, 610158.0, 548217.0, 456765.0, 817249.0, 566603.0, 638327.5, 802527.0, 761912.0, 48444.5, 631932.0, 612794.0, 59112.0, 659451.5, 663648.5, 697052.0, 666558.0, 712792.0, 717012.0, 56310.0, 4556.0, 678481.0, 668163.0, 3525.0, 706598.0, 597941.0, 21260.5, 726910.0, 71900.0, 194136.0, 718214.0, 612620.0, 683125.0, 463580.5, 285877.5, 681134.0, 228876.0, 659181.0, 698265.0, 665349.0, 762558.5, 664453.0, 808957.0, 45066.0, 627784.0, 785173.0, 662515.5, 661839.5, 698253.0, 656195.5, 741679.0, 11554.0, 806952.0, 712982.5, 601278.0, 706126.0, 16802.0, 664618.5, 666511.0, 694712.0, 177777.0, 657233.0, 611827.0, 720974.0, 318657.0, 606441.0, 662748.0, 700735.5, 661848.0, 263481.0, 663000.0, 715962.0, 129024.0, 336394.0, 9801.0, 17364.5, 668401.0, 688927.0, 682243.0, 677273.0, 717010.0, 659219.5, 663233.5, 585358.0, 149471.0, 710865.0, 40433.0, 696219.5, 738916.0, 698898.0, 657518.0, 714535.5, 284599.0, 406951.0, 685600.0, 756219.0, 740418.0, 658343.5, 23246.0, 699418.0, 652783.0, 695166.5, 731180.0, 289270.0, 668779.5, 713180.0, 746643.0, 708943.5, 406997.0, 692403.0, 134173.0, 700478.0, 675824.0, 34733.0, 7115.0, 679156.0, 295971.0, 675666.0, 26799.5, 716319.0, 637039.0, 661233.0, 664724.5, 663516.0, 697423.5, 550678.0, 219.0, 569085.5, 713358.0, 28769.5, 661844.0, 681640.5, 810867.0, 656957.0, 699639.0, 662826.0, 656954.0, 783114.0, 685278.5, 321114.0, 665911.0, 698594.0, 380050.0, 698996.0, 694601.5, 730074.0, 695112.5, 670683.5, 699566.5, 760201.0, 719504.0, 82355.0, 715273.0, 660293.0, 339333.0, 659151.5, 407893.0, 742754.0, 5525.0, 717304.0, 685484.5, 4712.0, 775287.0, 700994.0, 704435.5, 669730.0, 129804.0, 676470.0, 674192.0, 742343.0, 534.0, 749054.0, 659234.0, 739267.0, 717201.0, 663926.5, 676875.0, 757513.0, 656942.0, 585290.0, 695758.0, 71375.0, 80502.0, 688340.0, 175622.0, 9309.5, 677951.0, 721546.0, 715141.0, 18281.0, 745390.5, 209581.0, 705222.5, 662004.0, 663298.0, 666084.0, 688482.0, 107102.0, 142612.0, 730290.0, 675759.0, 695053.0, 775396.0, 449369.0, 726989.0, 337807.0, 173014.0, 668675.0, 585937.0, 638922.0, 684773.5, 565149.0, 133489.0, 677860.0, 367447.0, 662736.0, 708349.5, 683917.0, 730196.0, 680644.5, 790926.0, 624179.5, 783733.0, 721025.0, 705704.0, 670362.0, 658026.0, 229296.5, 227964.0, 598497.0, 673098.0, 613776.0, 611396.0, 798022.0, 720315.0, 677557.5, 511128.0, 671870.0, 304084.0, 716273.0, 763151.0, 705939.5, 773580.5, 471503.0, 633745.0, 658090.0, 662181.5, 711377.0, 60116.0, 672739.5, 731107.0, 703051.0, 667460.0, 767277.0, 512791.0, 737107.0, 641678.0, 665003.5, 760817.0, 706371.0, 566053.0, 709489.0, 630202.0, 706565.0, 286192.0, 662754.5, 737373.0, 681839.5, 687458.0, 684693.5, 670651.0, 706827.0, 596159.0, 676481.0, 680520.0, 658280.5, 689680.0, 675338.0, 81.0, 760989.0, 675078.5, 174446.0, 569929.0, 689029.0, 714106.0, 273.0, 606887.0, 34490.0, 657994.0, 772153.0, 690347.0, 663474.5, 749988.0, 504238.5, 701849.0, 141942.0, 521084.0, 707328.5, 692774.0, 227.5, 700619.0, 668159.0, 658236.0, 655301.0, 667247.0, 607636.5, 597371.0, 455690.0, 646536.0, 660557.5, 607824.0, 658358.5, 673614.0, 743922.0, 790020.0, 4759.5, 659102.0, 222829.0, 676010.0, 764821.0, 707534.0, 668144.0, 663734.0, 1797.5, 668249.5, 677825.0, 693591.0, 451893.5, 664257.0, 467518.0, 90642.0, 657389.5, 568261.0, 12688.5, 616026.0, 705673.0, 716879.0, 100800.0, 437.5, 6620.0, 730860.0, 666863.0, 641436.0, 674077.0, 590271.0, 726570.0, 704281.0, 818852.0, 616.0, 7305.0, 635250.0, 661759.0, 687985.0, 714476.0, 635706.5, 667137.0, 670102.5, 96879.0, 663912.0, 543121.0, 523766.5, 679932.0, 168.5, 650688.5, 684485.0, 34066.0, 669840.5, 706727.0, 665747.0, 50184.5, 630879.0, 637012.5, 577332.0, 719368.0, 609193.0, 686551.5, 687268.5, 735977.5, 128787.0, 687784.0, 40413.5, 690484.0, 697147.0, 177182.0, 22318.0, 795084.0, 700364.0, 674100.5, 681007.0, 683655.0, 730078.0, 31328.5, 726265.0, 676476.0, 741548.0, 725534.0, 716168.0, 736977.0, 705865.5, 711974.0, 759999.0, 577915.0, 540022.0, 25985.0, 685556.0, 144446.0, 693399.0, 715656.0, 751985.0, 676950.0, 716021.0, 748050.0, 566939.0, 690366.0, 170845.0, 630531.0, 731241.0, 691054.5, 718875.0, 688405.0, 706695.0, 739771.0, 662058.5, 710070.0, 25552.0, 243081.0, 749066.5, 703121.5, 664560.5, 9323.0, 642310.0, 670305.0, 668892.0, 68029.0, 677170.0, 750127.0, 6930.0, 684566.0, 791959.5, 668679.0, 415135.0, 680569.0, 671949.0, 37056.0, 471981.0, 234636.0, 15.0, 709868.0, 659970.0, 786470.0, 687505.5, 22424.0, 661540.0, 665317.0, 656809.0, 338328.0, 89352.0, 746095.0, 765776.5, 675680.0, 71203.0, 736187.0, 645686.0, 769340.0, 665094.0, 714756.0, 665192.0, 111269.0, 746658.0, 530539.5, 111373.0, 703382.0, 657702.0, 601671.0, 688134.5, 727403.0, 539592.0, 226831.0, 656528.0, 619239.0, 12198.0, 664578.0, 675454.0, 547048.0, 754560.0, 660026.0, 678076.5, 669345.0, 729074.0, 308687.5, 686538.0, 561146.0, 214732.5, 671807.5, 663554.0, 842661.0, 661290.5, 667000.0, 737032.0, 344824.0, 707507.0, 667026.0, 666655.5, 720319.0, 669354.5, 774146.0, 150010.0, 718430.0, 72931.5, 611378.5, 696209.5, 724391.0, 162419.0, 787136.0, 702551.0, 757798.0, 721694.0, 702702.0, 708509.0, 698978.0, 58249.5, 718966.0, 2169.0, 618424.0, 710632.0, 728943.0, 693955.0, 401.0, 277935.5, 702433.0, 754636.0, 672036.5, 794297.0, 6.5, 229743.0, 672855.5, 693424.0, 671301.0, 684350.0, 724559.0, 661890.0, 678124.0, 659149.0, 735961.0, 783226.0, 678727.0, 659901.0, 699169.0, 664664.5, 691064.5, 748747.5, 679523.0, 660109.0, 79564.0, 19578.0, 105408.0, 565916.0, 1159.0, 757810.0, 759957.5, 21470.5, 677597.0, 767488.0, 126058.0, 704472.0, 832618.0, 763389.0, 586695.5, 730946.0, 596818.0, 661639.0, 674570.0, 703212.0, 722274.0, 646199.0, 718154.5, 763437.0, 634661.5, 741276.0, 723157.0, 726400.0, 689566.0, 147741.0, 532632.0, 691935.0, 711964.0, 125288.0, 664649.0, 743144.0, 300227.0, 540014.0, 671038.0, 691111.0, 755191.0, 670435.0, 267712.0, 737244.0, 731673.0, 723728.0, 657135.0, 149093.5, 2612.0, 586818.0, 550386.0, 671526.0, 669189.0, 699705.0, 681451.0, 316646.0, 315156.0, 375471.0, 673700.0, 749667.0, 673202.0, 668576.0, 718997.0, 670292.0, 571574.0, 47526.0, 710095.0, 742140.0, 682198.0, 446156.5, 659253.0, 749260.0, 669603.5, 85683.0, 667576.0, 701751.0, 668060.0, 129278.0, 329152.0, 724253.5, 668122.0, 82998.0, 701162.0, 828452.0, 699883.0, 682598.0, 508821.0, 709121.0, 141189.0, 685269.5, 745781.0, 761444.0, 761973.0, 579521.0, 621825.5, 682994.0, 974.0, 79061.0, 677664.0, 43014.0, 338540.0, 697996.0, 709981.0, 658227.0, 252.0, 585758.5, 700585.0, 608681.5, 657607.5, 658360.5, 36011.0, 661168.0, 670791.0, 434343.0, 660261.0, 180292.0, 736275.0, 698654.0, 752564.0, 630237.0, 666498.0, 758089.5, 676639.0, 782508.0, 41114.0, 681200.0, 741971.0, 44826.0, 691224.0, 693714.0, 685353.0, 693571.0, 684701.0, 659706.0, 708590.0, 663356.5, 804025.0, 570445.0, 684734.5, 751618.0, 610569.5, 713998.0, 659913.0, 721106.0, 679433.0, 656002.0, 715119.0, 669416.0, 704497.0, 713238.0, 90186.0, 727517.0, 15152.0, 715369.0, 714782.0, 456385.0, 586605.0, 694358.0, 658208.0, 583679.5, 685288.5, 605040.0, 249.0, 676079.5, 588863.5, 582307.0, 737762.0, 622430.0, 671649.0, 287078.5, 703069.5, 373427.0, 680088.0, 676170.0, 16735.0, 697162.0, 658404.0, 609968.0, 322272.0, 161402.0, 661780.0, 754153.5, 704037.0, 657570.0, 681951.5, 667826.5, 675291.0, 773202.0, 696731.0, 677009.0, 680423.0, 670299.0, 684266.5, 734953.0, 713727.0, 661788.0, 714466.0, 689854.0, 659365.0, 695137.0, 601207.0, 674298.0, 617881.0, 166527.0, 646789.0, 617277.0, 719949.0, 661410.0, 54931.0, 703978.0, 594303.0, 18107.0, 56253.5, 596734.5, 670328.0, 684204.0, 327203.0, 369741.0, 679477.0, 605522.0, 259872.0, 690112.0, 688269.0, 721951.0, 6218.0, 7214.5, 658504.5, 660912.0, 661349.5, 666543.5, 677625.0, 112.0, 555262.0, 670441.0, 695733.0, 664180.0, 1999.0, 657491.0, 686271.0, 737033.5, 702597.0, 659565.0, 571182.0, 662441.0, 805216.0, 669710.5, 668494.0, 591853.0, 760604.0, 697248.0, 660840.0, 693629.0, 290231.5, 72300.0, 679036.0, 719478.0, 571409.5, 678696.0, 740006.0, 695927.0, 718465.0, 2111.0, 426028.0, 40233.0, 657580.0, 655195.0, 750912.0, 17965.5, 768260.0, 686373.0, 116532.0, 571247.0, 12910.0, 570144.0, 489.0, 658084.0, 659486.0, 731492.0, 710881.0, 693824.0, 571167.0, 752380.0, 702494.0, 718665.0, 83991.0, 705741.0, 675844.0, 684504.0, 677732.0, 712277.0, 667490.0, 688371.0, 647515.5, 258.0, 519998.0, 721710.0, 107.0, 94440.5, 706694.0, 643805.0, 716760.0, 211440.0, 183307.0, 704763.0, 719211.0, 631411.5, 719086.0, 700124.5, 4506.0, 126592.0, 789263.0, 674782.0, 656141.5, 657365.0, 603027.0, 681079.0, 572664.0, 746845.0, 715338.0, 600122.0, 756333.0, 757129.5, 691566.0, 666059.0, 744478.5, 704933.0, 352876.0, 716520.0, 597340.5, 725057.0, 750031.5, 601571.0, 686782.5, 674900.0, 590280.0, 707955.0, 658984.0, 708250.5, 659484.0, 377497.0, 748946.0, 723299.0, 620124.5, 597950.0, 714765.0, 698564.0, 632420.0, 707299.0, 674212.0, 665381.5, 460188.0, 739857.0, 676536.0, 738343.5, 739748.0, 699502.0, 68847.0, 676356.0, 686564.0, 501012.5, 50693.0, 761268.0, 633123.0, 660441.0, 426605.0, 689143.0, 239925.0, 662098.0, 685788.0, 668934.0, 43763.0, 664856.0, 579291.0, 744748.0, 606829.0, 771471.5, 663781.0, 743775.0, 760913.0, 664110.0, 399.0, 670504.0, 657844.0, 670677.0, 567895.0, 692016.0, 691216.0, 664783.0, 8045.0, 703105.0, 693701.0, 778131.0, 94395.0, 689154.0, 686504.0, 597291.0, 160818.0, 681505.0, 724433.0, 714810.0, 690106.0, 709084.0, 865046.0, 653837.0, 692461.0, 735864.5, 606909.5, 560151.0, 698054.0, 745775.0, 724020.0, 657346.0, 673414.0, 135.0, 87449.0, 100172.0, 595401.0, 741644.0, 682951.0, 719442.0, 7900.5, 678254.0, 8807.0, 662550.0, 671396.0, 679134.0, 797135.0, 661860.5, 1347.0, 677792.0, 711491.0, 691528.0, 491373.0, 658414.5, 701411.0, 676533.0, 663312.0, 688463.0, 743065.0, 38.5, 697432.0, 749511.0, 672754.0, 681526.0, 685361.5, 50867.0, 754081.0, 676934.0, 130253.0, 641666.0, 614549.0, 701640.0, 711923.0, 710659.0, 704047.5, 705780.0, 677218.0, 687323.0, 728372.0, 462951.0, 693999.5, 539329.0, 707820.0, 660988.5, 35.5, 743493.5, 573529.0, 21135.0, 677585.0, 510118.0, 680907.0, 722407.0, 655347.0, 772764.0, 710489.0, 682472.0, 704725.0, 684874.5, 817122.0, 702552.0, 516010.0, 232864.5, 373251.0, 656604.0, 677761.0, 695822.5, 671191.5, 555220.0, 658139.5, 657082.0, 659230.0, 684660.0, 757769.0, 581231.0, 266153.0, 670956.0, 55599.0, 669347.0, 716969.0, 411848.5, 667888.0, 680383.0, 755481.0, 755629.0, 710223.0, 714261.5, 672884.5, 663002.0, 661607.0, 703453.0, 350458.0, 666161.0, 690111.0, 705338.0, 672283.0, 702757.5, 453013.0, 403681.0, 726128.0, 670392.0, 151592.0, 746577.0, 752259.0, 687348.0, 703846.5, 735442.0, 682812.5, 655887.0, 660564.0, 99153.5, 662757.0, 692928.0, 291618.0, 702068.0, 762241.5, 674833.0, 715860.0, 745492.0, 758274.0, 668427.0, 696822.0, 662689.0, 3681.0, 626481.0, 738392.0, 656978.0, 664853.0, 718915.0, 625098.0, 250727.0, 663670.0, 746284.0, 92768.0, 563608.0, 733404.0, 663291.0, 703835.0, 663128.0, 699143.0, 458382.0, 307378.0, 585267.5, 659513.0, 661280.0, 670468.5, 686549.0, 719430.5, 628311.0, 563530.0, 622917.0, 472.0, 686851.0, 588422.5, 766175.0, 660175.5, 626363.0, 673222.0, 726533.0, 604886.0, 119479.5, 694943.0, 657918.0, 751437.5, 667797.0, 713743.0, 669134.5, 227617.0, 685275.0, 676812.0, 251.0, 680309.0, 661553.0, 812646.0, 664069.0, 607491.0, 763643.0, 747664.0, 631924.0, 6389.0, 715651.0, 730422.0, 41849.5, 693387.0, 107587.0, 673440.0, 662347.0, 161155.0, 748098.0, 677985.0, 433.0, 684303.0, 685435.5, 722562.0, 573361.0, 682440.0, 598444.0, 729052.5, 42531.0, 659296.0, 765066.0, 722806.0, 7010.5, 691429.5, 675989.0, 690283.0, 602456.0, 590099.0, 118274.0, 768907.0, 680707.0, 653717.5, 738717.5, 95839.0, 731547.0, 711393.0, 758165.0, 64281.0, 72229.0, 659415.0, 731550.0, 697510.0, 688181.0, 602484.0, 834843.0, 689411.5, 577402.5, 661523.0, 605093.5, 645900.5, 4100.5, 674038.0, 634468.0, 735128.0, 715897.0, 673357.0, 699835.0, 624595.0, 669166.0, 745916.0, 615591.0, 704530.0, 574146.0, 598095.0, 703275.0, 715878.0, 708101.0, 565184.0, 392349.0, 715464.0, 516071.0, 671339.0, 702236.0, 656478.0, 656930.0, 119.0, 692959.0, 798152.0, 724060.0, 676903.0, 634.0, 673303.5, 702598.0, 767582.0, 55253.0, 680738.0, 586264.0, 674444.0, 661825.0, 730174.0, 705731.0, 698641.0, 686066.0, 687507.0, 674536.0, 680486.5, 669654.5, 683710.0, 4665.0, 714099.0, 733170.0, 576456.0, 7001.0, 735341.0, 634389.0, 687335.0, 88.0, 4658.0, 717290.0, 125157.0, 676906.0, 756406.0, 739753.0, 739174.5, 669113.0, 659520.5, 744310.0, 599162.0, 683092.0, 662539.0, 753927.0, 742000.0, 679703.0, 673705.5, 476246.0, 704698.0, 670385.5, 815386.0, 659190.0, 485183.0, 97.5, 689710.5, 691367.0, 569897.0, 577275.0, 667128.5, 694729.0, 724789.0, 701029.5, 92622.0, 673811.0, 768725.0, 676848.5, 731391.0, 674419.0, 624589.0, 130652.5, 801498.0, 573176.0, 569859.0, 667600.0, 3568.0, 783453.0, 731516.0, 747780.5, 758061.5, 671681.0, 678509.0, 690671.0, 671408.0, 677540.0, 690472.5, 750349.0, 729594.0, 37256.0, 538021.0, 740478.5, 80678.0, 685387.0, 471228.0, 7131.5, 704164.0, 229666.5, 722178.5, 37917.0, 681450.0, 710234.0, 677997.0, 669826.0, 715674.0, 641069.0, 718302.5, 33765.5, 686052.0, 658965.5, 583203.5, 619640.0, 185108.0, 820740.0, 711291.0, 683984.0, 12457.0, 624064.0, 689183.0, 694522.0, 762271.0, 119394.0, 767564.0, 739866.0, 662302.5, 693625.0, 703623.0, 716234.5, 694525.0, 738062.0, 555980.0, 751912.0, 729979.0, 609223.5, 554857.0, 549824.5, 685519.0, 718752.0, 44595.0, 620165.0, 673074.0, 489845.0, 705870.0, 724689.0, 64460.5, 588253.5, 741263.0, 668458.0, 680924.0, 697903.0, 238048.5, 660530.0, 544375.0, 666356.0, 81848.0, 691178.0, 737608.5, 684261.0, 784571.0, 73017.0, 257839.0, 629611.5, 127443.0, 699437.5, 672951.0, 3943.0, 663659.0, 129.5, 679143.0, 712996.0, 736378.0, 462604.0, 2.0, 13411.0, 729328.0, 674959.0, 710517.0, 670485.0, 81614.0, 667593.0, 667099.5, 64.0, 661916.0, 695152.5, 658807.0, 736007.0, 733690.0, 695918.0, 708948.5, 288192.5, 655780.0, 751716.0, 709155.0, 704770.0, 46.5, 710883.0, 693976.0, 693930.5, 716437.5, 676469.0, 727759.0, 751021.0, 664464.0, 674250.0, 658411.0, 686256.0, 615627.0, 705863.5, 700509.0, 409965.0, 749657.0, 699074.0, 527123.0, 661601.5, 505065.0, 660712.0, 521548.5, 775198.5, 17047.0, 685039.0, 5402.0, 664797.0, 5907.0, 668080.0, 610329.0, 705943.0, 740000.0, 666905.5, 710755.0, 710080.0, 802112.0, 678245.0, 25533.0, 451440.5, 639704.0, 3278.0, 83330.5, 26537.5, 668796.0, 111749.0, 694461.5, 753631.5, 134069.5, 720159.0, 664430.0, 64240.5, 661211.0, 717974.0, 602502.5, 658007.0, 645948.0, 634294.5, 685314.0, 156723.5, 716373.0, 741191.0, 720334.5, 771691.0, 665032.0, 754905.0, 680168.0, 10078.0, 721533.0, 24957.0, 675654.0, 89965.0, 746739.0, 586085.0, 714074.0, 798715.5, 721573.0, 787131.0, 658777.0, 716237.0, 752474.0, 340.0, 669822.0, 525302.5, 208.0, 754554.0, 716859.5, 728336.0, 674503.5, 590343.0, 668506.5, 693739.0, 883.0, 724447.5, 681885.5, 14904.0, 702926.0, 667896.0, 592892.0, 254455.0, 714186.0, 254090.0, 554682.0, 292900.5, 769219.0, 554686.0, 694477.5, 63406.0, 171871.0, 660535.0, 706805.0, 301640.0, 716482.0, 699018.0, 742359.0, 830004.5, 668220.0, 81122.0, 426102.0, 655856.0, 719479.0, 22153.5, 707481.5, 659011.5, 697505.0, 614507.0, 687112.0, 779905.0, 712632.0, 730445.0, 665855.5, 680766.0, 725784.5, 273949.0, 665951.0, 678717.0, 538439.0, 751858.5, 675879.0, 671852.0, 81637.5, 674798.0, 680241.0, 102979.0, 678963.0, 772991.0, 778480.0, 63849.0, 698231.0, 666148.0, 667098.0, 679082.0, 704752.0, 228223.0, 600964.0, 224972.0, 661660.0, 726971.0, 599597.0, 679760.0]\n"
          ]
        }
      ]
    },
    {
      "cell_type": "code",
      "source": [
        "print(\"c_similarity:\", np.min(c_similarity), np.max(c_similarity), np.mean(c_similarity))\n",
        "print(\"d_similarity:\", np.min(d_similarity), np.max(d_similarity), np.mean(d_similarity))\n",
        "print(\"RS stats:\", np.min(pred[0]), np.max(pred[0]), np.mean(pred[0]), np.std(pred[0]))"
      ],
      "metadata": {
        "colab": {
          "base_uri": "https://localhost:8080/"
        },
        "id": "1Pu4T8Jolj8I",
        "outputId": "6d903a2c-218f-43d4-eae9-798a6323366f"
      },
      "execution_count": null,
      "outputs": [
        {
          "output_type": "stream",
          "name": "stdout",
          "text": [
            "c_similarity: 0.10089440171526895 1.0 0.6076383873790898\n",
            "d_similarity: 0.00925499690629726 1.0 0.6149293839354771\n",
            "RS stats: -0.007880743854415253 1.0073168570979227 0.4764264137447001 0.28153705859444006\n"
          ]
        }
      ]
    }
  ],
  "metadata": {
    "colab": {
      "provenance": [],
      "authorship_tag": "ABX9TyOKGZ7VZXvMDGi05jKJaAF9",
      "include_colab_link": true
    },
    "kernelspec": {
      "display_name": "Python 3",
      "name": "python3"
    },
    "language_info": {
      "name": "python"
    }
  },
  "nbformat": 4,
  "nbformat_minor": 0
}